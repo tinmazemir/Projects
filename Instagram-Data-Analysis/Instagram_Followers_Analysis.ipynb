{
 "cells": [
  {
   "cell_type": "code",
   "execution_count": null,
   "metadata": {},
   "outputs": [],
   "source": [
    "from InstagramAPI import InstagramAPI\n",
    "import getpass\n",
    "import pandas as pd"
   ]
  },
  {
   "cell_type": "code",
   "execution_count": null,
   "metadata": {},
   "outputs": [],
   "source": [
    "username = input(\"username:\")\n",
    "password = getpass.getpass()"
   ]
  },
  {
   "cell_type": "code",
   "execution_count": null,
   "metadata": {},
   "outputs": [],
   "source": [
    "api = InstagramAPI(username,password)\n",
    "api.login()\n",
    "user_id = api.username_id\n",
    "user_id"
   ]
  },
  {
   "cell_type": "code",
   "execution_count": null,
   "execution_count": 4,
   "metadata": {},
   "outputs": [],
   "source": [
    "Followers = api.getTotalFollowers(user_id)\n",
    "Following = api.getTotalFollowings(user_id)"
   ]
  },
  {
   "cell_type": "markdown",
   "metadata": {},
   "source": [
    "Cleaning Default List"
   ]
  },
  {
   "cell_type": "code",
   "execution_count": null,
   "execution_count": 5,
   "metadata": {},
   "outputs": [],
   "source": [
    "FollowersClean = []\n",
    "FollowingClean = []\n",
    "Unfollowers = []\n",
    "Unfollowing = [] \n"
   ]
  },
  {
   "cell_type": "code",
   "execution_count": null,
   "execution_count": 6,
   "metadata": {},
   "outputs": [],
   "source": [
    "def cleaner(CleaningList,CleanList):\n",
    "    for i in CleaningList:\n",
    "        if i[\"username\"] not in CleanList:\n",
    "            CleanList.append(i[\"username\"])\n"
   ]
  },
  {
   "cell_type": "code",
   "execution_count": null,
   "metadata": {},
   "outputs": [],
   "execution_count": 9,
   "metadata": {},
   "outputs": [
    {
     "name": "stdout",
     "output_type": "stream",
     "text": [
      "Followers: 357 Following: 352\n"
     ]
    }
   ],
   "source": [
    "print(\"Followers:\",len(Followers),\"Following:\",len(Following))"
   ]
  },
  {
   "cell_type": "code",
   "execution_count": null,
   "execution_count": 10,
   "metadata": {},
   "outputs": [],
   "source": [
    "def unfollowersFinder(FollowersClean =FollowersClean, FollowingClean =FollowingClean, UNF =Unfollowers):\n",
    "    for i in FollowingClean:\n",
    "        if i not in FollowersClean:\n",
    "            if i not in UNF:\n",
    "                UNF.append(i)\n"
   ]
  },
  {
   "cell_type": "code",
   "execution_count": null,
   "execution_count": 11,
   "metadata": {},
   "outputs": [],
   "source": [
    "def unfollowingFinder(FollowersClean =FollowersClean, FollowingClean =FollowingClean, UNF =Unfollowing):\n",
    "    for i in FollowersClean:\n",
    "        if i not in FollowingClean:\n",
    "            if i not in UNF:\n",
    "                UNF.append(i)"
   ]
  },
  {
   "cell_type": "code",
   "execution_count": null,
   "execution_count": 21,
   "metadata": {},
   "outputs": [],
   "source": [
    "def mineunfollowers(Mod = \"unfollowers\"):\n",
    "    global Followers,FollowersClean,Following,FollowingClean,Unfollowers,Unfollowing\n",
    "    cleaner(Followers,FollowersClean)\n",
    "    cleaner(Following,FollowingClean)\n",
    "    unfollowersFinder()\n",
    "    unfollowingFinder()\n",
    "    print(\"unfollowers:\"+str(len(Unfollowers)),\"unfollowing:\"+str(len(Unfollowing))+\"\\n\")\n",
    "    print(\"unfollowers:\"+str(Unfollowers))  \n",
    "    #print(\"unfollowing:\"+str(Unfollowing))"
    "    print(\"unfollowingList:\"+str(Unfollowers))  "
    "    if(Mod == \"unfollowers\"):\n",
    "        print(\"unfollowers:\"+str(len(Unfollowers)),\"unfollowing:\"+str(len(Unfollowing))+\"\\n\")\n",
    "        print(\"unfollowingList:\"+str(Unfollowers))  \n",
    "    else:\n",
    "        print(\"unfollowers:\"+str(len(Unfollowers)),\"unfollowing:\"+str(len(Unfollowing))+\"\\n\")\n",
    "        print(\"unfollowingList:\"+str(Unfollowing))"
   ]
  },
  {
   "cell_type": "code",
   "execution_count": null,
   "metadata": {},
   "outputs": [],
   "execution_count": 22,
   "metadata": {},
   "outputs": [
    {
     "name": "stdout",
     "output_type": "stream",
     "text": [
      "unfollowers:20 unfollowing:25\n",
      "\n",
      "unfollowingList:['barugmuhammetfatih', 'melisaasakarya', 'dogduaysee', 'marinoy_', 'ezgixi', 'gencprogramci', 'cowboyhardwareofficial', 'hezarfen_sanat', 'farrier_mylove', 'abustaaf', 'abdulmecid_han', 'ugurrduruu', 'yamen.alazzam17', 'ammar_alqaissi', 'muradabu_mhfuz', 'ersinoutdoordogasporlari', 'hobimarket35', '_albertocampuzano', '_abdulkadir_demirkol_', 'gandiwo_jowo', 'nidayelki', 'wolverinemorganhorse', 'sedef5115', 'nctddshv', 'fa_h711']\n"
     ]
    }
   ],
   "source": [
    "mineunfollowers(\"else\")"
   ]
  },
  {
   "cell_type": "markdown",
   "metadata": {},
   "source": [
    "Takipcilerimin datasi\n"
   ]
  },
  {
   "cell_type": "code",
   "execution_count": null,
   "metadata": {},
   "outputs": [],
   "source": [
    "raw_data = {\"user_id\": [],\n",
    "            \"username\": [],\n",
    "            \"Followers\": [],\n",
    "            \"Following\": [],\n",
    "            \"Following\": [],\n",
    "            \"Unfollowers\": [],\n",
    "            \"Unfollowing\": [],\n",
    "           }"
   ]
  },
  {
   "cell_type": "markdown",
   "metadata": {},
   "source": [
    "Datayi Toplama&Olusturma"
   ]
  },
  {
   "cell_type": "code",
   "execution_count": null,
   "metadata": {},
   "outputs": [],
   "source": [
    "def DATA(Followers):\n",
    "    for i in Followers:\n",
    "        user_id_ = i[\"pk\"]\n",
    "        username_ = i[\"username\"]\n",
    "        Followers_ = api.getTotalFollowers(user_id_)\n",
    "        Following_ = api.getTotalFollowings(user_id_)\n",
    "        FollowersClean_ = []\n",
    "        FollowingClean_ = []\n",
    "        Unfollowers_ = []\n",
    "        Unfollowing_ = [] \n",
    "        \n",
    "        cleaner(Followers_,FollowersClean_)\n",
    "        cleaner(Following_,FollowingClean_)\n",
    "        \n",
    "        unfollowersFinder(FollowersClean_ , FollowingClean_ , Unfollowers_)\n",
    "        unfollowingFinder(FollowersClean_ , FollowingClean_ , Unfollowing_)\n",
    "        \n",
    "        raw_data[\"user_id\"].append(user_id_)\n",
    "        raw_data[\"username\"].append(username_)\n",
    "        raw_data[\"Followers\"].append(len(FollowersClean_))\n",
    "        raw_data[\"Following\"].append(len(FollowingClean_))\n",
    "        raw_data[\"Unfollowers\"].append(len(Unfollowers_))\n",
    "        raw_data[\"Unfollowing\"].append(len(Unfollowing_))"
   ]
  },
  {
   "cell_type": "code",
   "execution_count": null,
   "metadata": {},
   "outputs": [],
   "source": [
    "DATA(Followers)"
   ]
  },
  {
   "cell_type": "code",
   "execution_count": null,
   "metadata": {},
   "outputs": [],
   "source": [
    "raw_data"
   ]
  },
  {
   "cell_type": "code",
   "execution_count": null,
   "metadata": {},
   "outputs": [],
   "source": [
    "mfd = pd.DataFrame(raw_data)"
   ]
  },
  {
   "cell_type": "code",
   "execution_count": null,
   "metadata": {},
   "outputs": [],
   "source": [
    "mfd"
   ]
  },
  {
   "cell_type": "code",
   "execution_count": null,
   "metadata": {},
   "outputs": [],
   "source": []
  }
 ],


 "metadata": {
  "kernelspec": {
   "display_name": "Python 3",
   "language": "python",
   "name": "python3"
  },
  "language_info": {
   "codemirror_mode": {
    "name": "ipython",
    "version": 3
   },
   "file_extension": ".py",
   "mimetype": "text/x-python",
   "name": "python",
   "nbconvert_exporter": "python",
   "pygments_lexer": "ipython3",
   "version": "3.8.2"
  }
 },
 "nbformat": 4,
 "nbformat_minor": 2
}
